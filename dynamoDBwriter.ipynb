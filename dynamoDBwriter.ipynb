{
 "cells": [
  {
   "cell_type": "code",
   "execution_count": 8,
   "metadata": {
    "vscode": {
     "end_execution_time": "2020-09-09T11:52:43.407Z",
     "start_execution_time": "2020-09-09T11:52:42.681Z"
    }
   },
   "outputs": [],
   "source": [
    "import boto3\n",
    "dynamodb = boto3.resource('dynamodb')\n",
    "import pandas as pd"
   ]
  },
  {
   "cell_type": "code",
   "execution_count": 9,
   "metadata": {
    "vscode": {
     "end_execution_time": "2020-09-09T11:52:45.143Z",
     "start_execution_time": "2020-09-09T11:52:43.408Z"
    }
   },
   "outputs": [],
   "source": [
    "select = [[0, 'Users'], [1, 'Bookings']]\n",
    "k = int(input('Please select the option number:\\n1. Users\\n2.Bookings\\n')) -1"
   ]
  },
  {
   "cell_type": "code",
   "execution_count": 10,
   "metadata": {
    "tags": [],
    "vscode": {
     "end_execution_time": "2020-09-09T11:52:45.349Z",
     "start_execution_time": "2020-09-09T11:52:45.146Z"
    }
   },
   "outputs": [],
   "source": [
    "jsonData = []\n",
    "tableCols = []\n",
    "tableCols.append(['UserId', 'UserStatus', 'PhoneNumber', 'Email', 'BirthDate', 'FirstName', 'Gender', 'LastName', 'Nationality', 'AccessToken', 'IdToken', 'RefreshToken', 'FullName', 'GoogleId', 'GoogleIdentityData', 'GooglePicture'])\n",
    "tableCols.append(['BookingId', 'BookingInfo', 'BookingResponse', 'Category', 'PaymentStatus', 'UserId', 'Created', 'ClientToken', 'PaymentGateway', 'ProviderId', 'ChargeId', 'BookingSummary', 'ServiceDestination', 'ServiceTime', 'BookingToken', 'Emails', 'BookingStatus', 'BoardingPass'])\n",
    "data = pd.read_csv('~/Downloads/{}.csv'.format(select[k][1]))\n",
    "\n",
    "columns = tableCols[select[k][0]]\n",
    "\n",
    "for index, row in data.iterrows():\n",
    "    item = {'PutRequest': {'Item': {columns[0]: row[0]}}}\n",
    "    # print(item)\n",
    "    for i in range(1, len(columns)):\n",
    "        if str(row[i]) != 'nan':\n",
    "            item['PutRequest']['Item'][columns[i]] = str(row[i]) \n",
    "    jsonData.append(item)"
   ]
  },
  {
   "cell_type": "code",
   "execution_count": 11,
   "metadata": {},
   "outputs": [],
   "source": [
    "def reshape(lst, n):\n",
    "    return [lst[i*n:(i+1)*n] for i in range(len(lst)//n)] + [lst[len(lst)-len(lst)%n:]]"
   ]
  },
  {
   "cell_type": "code",
   "execution_count": 12,
   "metadata": {
    "tags": []
   },
   "outputs": [],
   "source": [
    "nd = reshape(jsonData, 25)"
   ]
  },
  {
   "cell_type": "code",
   "execution_count": 13,
   "metadata": {
    "tags": []
   },
   "outputs": [],
   "source": [
    "\n",
    "# table = dynamodb.Table('Users')\n",
    "# print(table.creation_date_time)\n",
    "# for i in nd:\n",
    "response = dynamodb.batch_write_item(RequestItems={select[k][1]: nd[0]})\n",
    "# RequestItems"
   ]
  },
  {
   "cell_type": "code",
   "execution_count": 14,
   "metadata": {
    "tags": []
   },
   "outputs": [],
   "source": [
    "# # import json\n",
    "# from rich import print\n",
    "# print(json.dumps(nd[2], indent=4, sort_keys=True))"
   ]
  },
  {
   "cell_type": "code",
   "execution_count": null,
   "metadata": {},
   "outputs": [],
   "source": []
  }
 ],
 "metadata": {
  "kernelspec": {
   "display_name": "Python 3.8.3 64-bit",
   "name": "python38364bitbbc55c31fc144dbf97f81da9374b11aa"
  },
  "language_info": {
   "codemirror_mode": {
    "name": "ipython",
    "version": 3
   },
   "file_extension": ".py",
   "mimetype": "text/x-python",
   "name": "python",
   "nbconvert_exporter": "python",
   "pygments_lexer": "ipython3",
   "version": "3.8.3-final"
  },
  "orig_nbformat": 2
 },
 "nbformat": 4,
 "nbformat_minor": 2
}