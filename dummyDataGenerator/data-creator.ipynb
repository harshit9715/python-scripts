{
 "metadata": {
  "language_info": {
   "codemirror_mode": {
    "name": "ipython",
    "version": 3
   },
   "file_extension": ".py",
   "mimetype": "text/x-python",
   "name": "python",
   "nbconvert_exporter": "python",
   "pygments_lexer": "ipython3",
   "version": "3.8.3-final"
  },
  "orig_nbformat": 2,
  "kernelspec": {
   "name": "python38364bitb0ab38d88b0e465ca361e0a429431445",
   "display_name": "Python 3.8.3 64-bit"
  }
 },
 "nbformat": 4,
 "nbformat_minor": 2,
 "cells": [
  {
   "cell_type": "markdown",
   "metadata": {},
   "source": [
    "# Generate data for recommendation system\n",
    "---\n",
    "## Part 1: Create 100 user data records"
   ]
  },
  {
   "cell_type": "markdown",
   "metadata": {},
   "source": [
    "## Loading and preprocessing\n",
    "### use AWS-CLI command\n",
    "\n",
    "`aws cognito-idp list-users --user-pool-id ap-south-1_AbhMNmzI2 --attributes-to-get '[\"sub\"]`\n",
    "\n",
    "---\n",
    "\n",
    "To get the list of all users in cognito user pool as json. and then copy and save it as a file [cog-user-data.json](~/Documents/python-scripts/htt-recommendation-system/cog-user-data.json)"
   ]
  },
  {
   "cell_type": "code",
   "execution_count": null,
   "metadata": {},
   "outputs": [],
   "source": [
    "# imports for part 1\n",
    "import json\n",
    "import uuid\n",
    "import base64\n",
    "import datetime\n",
    "import random\n",
    "import pandas as pd\n",
    "from pandas.io.json import json_normalize"
   ]
  },
  {
   "cell_type": "markdown",
   "metadata": {},
   "source": [
    "### Filter out cognito id's from aws cli response json\n",
    "- Load the file as json. \n",
    "- Read all the data \n",
    "- use list comprehension to filter out the cognito IDs\n",
    "- save it in another file"
   ]
  },
  {
   "cell_type": "code",
   "execution_count": null,
   "metadata": {},
   "outputs": [],
   "source": [
    "# open and read the JSON file\n",
    "with open('./cog-user-data.json') as f:\n",
    "  cog_user_data = json.load(f)"
   ]
  },
  {
   "cell_type": "code",
   "execution_count": null,
   "metadata": {},
   "outputs": [],
   "source": [
    "# fetch all cognito IDs using list comprehension\n",
    "cogIDs = [i[\"Username\"] for i in cog_user_data]"
   ]
  },
  {
   "cell_type": "code",
   "execution_count": null,
   "metadata": {},
   "outputs": [],
   "source": [
    "# write the IDs to another file for later use.\n",
    "with open('./cognito-user-IDs_copy.txt', 'w') as f:\n",
    "    for i in cogIDs:\n",
    "        f.write(i+'\\n')"
   ]
  },
  {
   "cell_type": "markdown",
   "metadata": {},
   "source": [
    "### Create a copy of userIDs, there are only 46 in userpool, we will generate 54 more and use 100 users for our case."
   ]
  },
  {
   "cell_type": "code",
   "execution_count": null,
   "metadata": {},
   "outputs": [],
   "source": [
    "# append 54 more random uuid's to the list of userID's\n",
    "with open('./cognito-user-IDs_copy.txt', 'a') as f:\n",
    "    for i in range(54):\n",
    "        f.write(str(uuid.uuid4())+'\\n')"
   ]
  },
  {
   "cell_type": "markdown",
   "metadata": {},
   "source": [
    "### Generate name, surname, birthdays, email address, nationality, phone and gender for each user and save it as json.\n",
    "\n",
    "- Some fields like name doesn't really make sense.\n",
    "- Hit the isdCodes endpoint so we can generate some phone numbers and get Nationality.\n",
    "- Save this data in [isdCodes.json](./isdCodes.json)"
   ]
  },
  {
   "cell_type": "code",
   "execution_count": null,
   "metadata": {},
   "outputs": [],
   "source": [
    "with open('./isdCodes.json', 'r') as f:\n",
    "    codes = json.load(f)\n"
   ]
  },
  {
   "cell_type": "code",
   "execution_count": null,
   "metadata": {
    "tags": []
   },
   "outputs": [],
   "source": [
    "# Date data for generating birthdays.\n",
    "start_date = datetime.date(1960, 1, 1)\n",
    "end_date = datetime.date(2000, 1, 1)\n",
    "time_between_dates = end_date - start_date\n",
    "days_between_dates = time_between_dates.days\n",
    "\n",
    "\n",
    "all_data = []\n",
    "# load the userIDs from text file.\n",
    "with open('./cognito-user-IDs_copy.txt', 'r') as f:\n",
    "    i = 1 # used for index\n",
    "    for user_id in f.readlines(): # for each userID\n",
    "        i+= 1\n",
    "        user_data_json = {}\n",
    "\n",
    "        # save userID\n",
    "        user_data_json[\"USER_ID\"] = user_id\n",
    "\n",
    "        # generate names from userIDs (simply convert it into base64)\n",
    "        name = str(base64.b64encode(bytes(user_id, 'utf-8')), 'utf-8')\n",
    "        \n",
    "        # Name is too long so we are randomly chopping it.\n",
    "        name = name[:-30 -random.randrange(15)] \n",
    "        \n",
    "        # split and save it as fname and fname.\n",
    "        user_data_json[\"FIRST_NAME\"], user_data_json[\"LAST_NAME\"] = name[:len(name)//2], name[len(name)//2:] \n",
    "\n",
    "        # gender distribution is 60% male and 40% female (ideally choosen)\n",
    "        ageList = ['M', 'M', 'M', 'F', 'F']\n",
    "\n",
    "        # Randomly choose a gender with the provided distribution.\n",
    "        user_data_json[\"GENDER\"] = random.choice(ageList)\n",
    "\n",
    "        # generate email with fname and lname\n",
    "        user_data_json[\"EMAIL\"] = name[:len(name)//2]+\".\"+name[len(name)//2:]+'@gmail.com'\n",
    "        \n",
    "        # randomly choose a Nationality and associated ISD code.\n",
    "        phone_and_nationality_code = random.choice(codes)\n",
    "\n",
    "        # Create phone number using ISD code and generate a random 10 digit phone number.\n",
    "        user_data_json[\"PHONE_NUMBER\"] = phone_and_nationality_code['dial_code']+ str(random.randrange(9999999998) + 1000000000)\n",
    "\n",
    "        # Save nationality\n",
    "        user_data_json[\"NATIONALITY\"] = phone_and_nationality_code['code']\n",
    "        \n",
    "        # Select a random birthday\n",
    "        random_number_of_days = random.randrange(days_between_dates)\n",
    "        random_date = start_date + datetime.timedelta(days=random_number_of_days)\n",
    "        \n",
    "        # save the birthday\n",
    "        user_data_json[\"BIRTH_DATE\"] = random_date.strftime(\"%m/%d/%Y\")\n",
    "        \n",
    "        # Do this for all the userIDs\n",
    "        all_data.append(user_data_json)\n"
   ]
  },
  {
   "cell_type": "code",
   "execution_count": null,
   "metadata": {},
   "outputs": [],
   "source": [
    "# convert JSOn into a dataframe\n",
    "df = json_normalize(all_data)"
   ]
  },
  {
   "cell_type": "code",
   "execution_count": null,
   "metadata": {},
   "outputs": [],
   "source": [
    "# Save the dataframe as a CSV file.\n",
    "df.to_csv('user_data.csv')"
   ]
  },
  {
   "cell_type": "markdown",
   "metadata": {},
   "source": [
    "---\n",
    "## Part 2. Airports table data"
   ]
  },
  {
   "cell_type": "code",
   "execution_count": null,
   "metadata": {},
   "outputs": [],
   "source": [
    "# imports used for part 2\n",
    "import boto3\n",
    "from pandas.io.json import json_normalize"
   ]
  },
  {
   "cell_type": "code",
   "execution_count": null,
   "metadata": {},
   "outputs": [],
   "source": [
    "# boto3 dynamodb resource object\n",
    "dynamodb = boto3.resource('dynamodb')"
   ]
  },
  {
   "cell_type": "code",
   "execution_count": null,
   "metadata": {},
   "outputs": [],
   "source": [
    "# run a scan query and fetch all the 3000+ records from database\n",
    "table = dynamodb.Table('Airports')start_date = datetime.date(1960, 1, 1)\n",
    "end_date = datetime.date(2000, 1, 1)\n",
    "time_between_dates = end_date - start_date\n",
    "days_between_dates = time_between_dates.days\n",
    "response = table.scan()\n",
    "data = response['Items']\n",
    "while 'LastEvaluatedKey' in response:\n",
    "    response = table.scan(ExclusiveStartKey=response['LastEvaluatedKey'])\n",
    "    data.extend(response['Items'])"
   ]
  },
  {
   "cell_type": "code",
   "execution_count": null,
   "metadata": {},
   "outputs": [],
   "source": [
    "# convert json data to pandas dataframe\n",
    "df = json_normalize(data)"
   ]
  },
  {
   "cell_type": "code",
   "execution_count": null,
   "metadata": {},
   "outputs": [],
   "source": [
    "# save dataframe as CSV\n",
    "df.to_csv('airports.csv')"
   ]
  },
  {
   "cell_type": "markdown",
   "metadata": {},
   "source": [
    "## 3. Events Data\n",
    "### Basics Assumptions\n",
    "- we are working on a time frame of 1 month. (possibly December 2019)\n",
    "- We are going to book/view/search for 1000 destinations\n",
    "- We will make a list of popular destinations\n",
    "\n",
    "**Columns required:**\n",
    "\n",
    "- [x] UserID\n",
    "- [x] Destination (IATA_CODE)\n",
    "- [x] Source (IATA_CODE)\n",
    "- [x] SessionID\n",
    "- [ ] Timestamp - Time of Booking\n",
    "- [x] ServiceType - 'Flights' \n",
    "- [x] Service Price - '0 for all'\n",
    "- [ ] ServiceTime - DateOfTravel (isoUnixDateTime)\n",
    "- [ ] Event Type (Search/ View/ Booking)\n",
    "- [ ] EventValue "
   ]
  },
  {
   "cell_type": "code",
   "execution_count": 1,
   "metadata": {},
   "outputs": [],
   "source": [
    "# imports for part 3\n",
    "import datetime, time\n",
    "import random\n",
    "import json\n",
    "import uuid\n",
    "from collections import Counter\n",
    "from pandas.io.json import json_normalize\n",
    "import pandas as pd"
   ]
  },
  {
   "cell_type": "code",
   "execution_count": 2,
   "metadata": {},
   "outputs": [],
   "source": [
    "# Get the time frame set-up for event dates\n",
    "start_date = datetime.date(2019, 12, 1)\n",
    "end_date = datetime.date(2020, 1, 1)\n",
    "\n",
    "time_between_dates = end_date - start_date\n",
    "days_between_dates = time_between_dates.days\n",
    "\n",
    "# Get the current date\n",
    "start_date_current = datetime.date(2019, 4, 1)\n",
    "end_date_current = datetime.date(2019, 11, 30)\n",
    "\n",
    "time_between_current_dates = end_date_current - start_date_current\n",
    "days_between_current_dates = time_between_current_dates.days\n"
   ]
  },
  {
   "cell_type": "code",
   "execution_count": 3,
   "metadata": {},
   "outputs": [],
   "source": [
    "# load userIDs and load destinations\n",
    "with open('./cognito-user-IDs_copy.txt', 'r') as f:\n",
    "    userIDs = f.readlines()\n",
    "with open('./destinations.json', 'r') as f:\n",
    "    destinations = json.load(f)"
   ]
  },
  {
   "cell_type": "code",
   "execution_count": 4,
   "metadata": {},
   "outputs": [
    {
     "output_type": "execute_result",
     "data": {
      "text/plain": "243"
     },
     "metadata": {},
     "execution_count": 4
    }
   ],
   "source": [
    "days_between_current_dates"
   ]
  },
  {
   "cell_type": "code",
   "execution_count": 5,
   "metadata": {},
   "outputs": [],
   "source": [
    "# Optionally more considering Christmas and New Year\n",
    "booking_days = [i for i in range(days_between_dates)]\n",
    "# Checking days can be random distributed\n",
    "checking_days = [i for i in range(days_between_current_dates)]\n",
    "# assuming travel plans increases near christmas and new year \n",
    "booking_distribution = [1,1,1,1,2,1,1,1,1,2,1,1,1,3,3,3,3,5,5,10,10,15,10,3,1,3,15,10,5,3,1]\n",
    "\n",
    "# list comprehension to create non-linear distribution.\n",
    "new_booking_days = [[booking_days[i] for j in range(dist)] for i, dist in enumerate(booking_distribution)]\n",
    "\n",
    "# one line function to flat list\n",
    "flatten = lambda l: [item for sublist in l for item in sublist]\n",
    "\n",
    "\n",
    "new_booking_days = flatten(new_booking_days)\n",
    "# new_booking_days"
   ]
  },
  {
   "cell_type": "code",
   "execution_count": 6,
   "metadata": {
    "tags": []
   },
   "outputs": [],
   "source": [
    "# here is what new distribution looks like.\n",
    "# _ = [print(start_date + datetime.timedelta(days=i)) for i in new_booking_days]"
   ]
  },
  {
   "cell_type": "code",
   "execution_count": 7,
   "metadata": {},
   "outputs": [],
   "source": [
    "# create non-linear (popular) destinations\n",
    "dest_list = [i['code'] for i in destinations]\n",
    "source_list = dest_list.copy()\n",
    "# destinations\n",
    "popular_list = [(\"HYD\", 15), (\"BCN\", 13), (\"LVS\", 11), (\"BKK\", 9), (\"MV\", 8), (\"KUL\", 7), (\"SIN\", 6), (\"MAD\", 5), (\"DXB\", 4), (\"KAI\", 3)]\n",
    "_ = [[dest_list.append(i[0]) for _ in range(i[1])] for i in popular_list]\n",
    "# [print(i) for i in range(popular_list)]"
   ]
  },
  {
   "cell_type": "code",
   "execution_count": 8,
   "metadata": {
    "tags": []
   },
   "outputs": [
    {
     "output_type": "stream",
     "name": "stdout",
     "text": "989\n"
    },
    {
     "output_type": "execute_result",
     "data": {
      "text/plain": "[('HYD', 16),\n ('BCN', 14),\n ('LVS', 12),\n ('BKK', 10),\n ('MV', 9),\n ('KUL', 8),\n ('SIN', 7),\n ('MAD', 6),\n ('DXB', 5),\n ('KAI', 4),\n ('BTR', 1)]"
     },
     "metadata": {},
     "execution_count": 8
    }
   ],
   "source": [
    "print(len(dest_list))\n",
    "Counter(dest_list).most_common(11)"
   ]
  },
  {
   "cell_type": "code",
   "execution_count": 9,
   "metadata": {},
   "outputs": [
    {
     "output_type": "execute_result",
     "data": {
      "text/plain": "908"
     },
     "metadata": {},
     "execution_count": 9
    }
   ],
   "source": [
    "with open('destinations.json') as f:\n",
    "    D = json.load(f)\n",
    "len([i[\"code\"] for i in D])"
   ]
  },
  {
   "cell_type": "code",
   "execution_count": 10,
   "metadata": {},
   "outputs": [],
   "source": [
    "# Event choices\n",
    "\n",
    "event_types = [('Search', 0.33), ('View', 0.66), ('Booking', 0.99)]\n",
    "event_option_weights = [1, 1, 1]\n",
    "event_options = flatten([[event_types[i] for j in range(c)] for i, c in enumerate(event_option_weights)])\n",
    "\n",
    "# Price choices\n",
    "\n",
    "price_list = [i for i in range(50,150)]"
   ]
  },
  {
   "cell_type": "code",
   "execution_count": 25,
   "metadata": {
    "tags": []
   },
   "outputs": [],
   "source": [
    "# this is where we create the records:\n",
    "event_records = []\n",
    "for i in range(4000):\n",
    "    event_record = {}\n",
    "    event_record[\"USER_ID\"] = random.choice(userIDs)[:-1]\n",
    "    event_record[\"SESSION_ID\"] = str(uuid.uuid4())\n",
    "    current_date = start_date_current + datetime.timedelta(days=random.choice(checking_days))\n",
    "    c_timestamp = time.mktime(current_date.timetuple())\n",
    "    event_record[\"TIMESTAMP\"] = int(c_timestamp)\n",
    "    event_record[\"ITEM_ID\"] = random.choice(dest_list)\n",
    "    event_selected = random.choice(event_options)\n",
    "    event_record[\"EVENT_TYPE\"] = event_selected[0]\n",
    "    event_record[\"EVENT_VALUE\"] = event_selected[1]\n",
    "    event_record[\"SERVICE_TYPE\"] = 'FLIGHTS'\n",
    "    event_record[\"USER_LOCATION\"] = random.choice(source_list)\n",
    "    event_record[\"SERVICE_LOCATION\"] = event_record[\"ITEM_ID\"]\n",
    "    event_date = start_date + datetime.timedelta(days=random.choice(new_booking_days))\n",
    "    timestamp = time.mktime(event_date.timetuple())\n",
    "    event_record[\"SERVICE_TIME\"] = int(timestamp)\n",
    "    event_record[\"SERVICE_PRICE\"] = 0 if event_record[\"EVENT_TYPE\"] == \"Search\" else random.choice(price_list)\n",
    "    event_records.append(event_record)\n",
    "df = json_normalize(event_records)"
   ]
  },
  {
   "cell_type": "code",
   "execution_count": 26,
   "metadata": {},
   "outputs": [],
   "source": [
    "df.head()\n",
    "df.to_csv('event_data.csv')"
   ]
  },
  {
   "cell_type": "code",
   "execution_count": 27,
   "metadata": {},
   "outputs": [],
   "source": [
    "# Counter([i[\"ITEM_ID\"] for i in event_records]).most_common(100)"
   ]
  },
  {
   "cell_type": "code",
   "execution_count": 14,
   "metadata": {},
   "outputs": [],
   "source": [
    "import uuid"
   ]
  },
  {
   "cell_type": "code",
   "execution_count": 28,
   "metadata": {},
   "outputs": [],
   "source": [
    "df = pd.read_csv('event_data.csv')"
   ]
  },
  {
   "cell_type": "code",
   "execution_count": 29,
   "metadata": {},
   "outputs": [],
   "source": [
    "# df.head()"
   ]
  },
  {
   "cell_type": "code",
   "execution_count": 33,
   "metadata": {},
   "outputs": [],
   "source": [
    "df1 = df.loc[df['EVENT_TYPE'] == 'View']"
   ]
  },
  {
   "cell_type": "code",
   "execution_count": 31,
   "metadata": {},
   "outputs": [
    {
     "output_type": "execute_result",
     "data": {
      "text/plain": "      Unnamed: 0                               USER_ID  \\\n0              0  505b2165-5089-4ba1-85d9-ab0eedddb6ff   \n2              2  4da565db-a67e-4a17-a9a6-147a5970deba   \n6              6  6861966e-930e-4a42-ab6e-eed13e3d3be4   \n8              8  f8082749-d4a8-413a-b01e-2a4b81b0fde2   \n11            11  12d8c4c0-a472-4da5-950b-ce02b426d32c   \n...          ...                                   ...   \n3990        3990  a7981edb-234d-42ce-938a-8dd7aed43c98   \n3991        3991  a8bc3210-449b-44a8-ac54-b182b13be0fc   \n3995        3995  110749c7-6b27-4bfb-bb92-ab1010b73ba5   \n3996        3996  47227935-085f-4877-8573-f56a3d7717a6   \n3999        3999  395a0867-040e-4a68-88b9-3c9aaa5b094a   \n\n                                SESSION_ID   TIMESTAMP ITEM_ID EVENT_TYPE  \\\n0     281f25c8-1544-4ad1-a982-5ece2268b6de  1569177000     JAI    Booking   \n2     0856c5b5-cef7-4418-a2fb-b3483d7d9ad3  1562005800     NAN    Booking   \n6     35bca8d2-d380-4ce8-b15e-c5722d7339fd  1568399400     VIA    Booking   \n8     ffaf2000-600a-4d81-bb59-f32880642b9e  1563906600     LEO    Booking   \n11    e30c86d6-16c8-40b1-83fd-87589d27665b  1555957800     CEN    Booking   \n...                                    ...         ...     ...        ...   \n3990  7de58e57-770c-4001-9655-f846fded3728  1567017000     SDR    Booking   \n3991  78387b14-b09b-44a4-bca0-b26065507279  1554489000     SAT    Booking   \n3995  733cce34-627b-4d76-a588-54e14a0d3073  1565116200     CDO    Booking   \n3996  a693e8f4-4278-449a-9588-b64b62932e6e  1570645800     TH7    Booking   \n3999  563bd892-e491-46d0-b13a-1cb8829666f9  1567535400     FJR    Booking   \n\n      EVENT_VALUE SERVICE_TYPE USER_LOCATION SERVICE_LOCATION  SERVICE_TIME  \\\n0            0.99      FLIGHTS           DEN              JAI    1577039400   \n2            0.99      FLIGHTS           CAE              NAN    1577385000   \n6            0.99      FLIGHTS           BIN              VIA    1576348200   \n8            0.99      FLIGHTS           HAN              LEO    1576780200   \n11           0.99      FLIGHTS           ALC              CEN    1576780200   \n...           ...          ...           ...              ...           ...   \n3990         0.99      FLIGHTS           CPH              SDR    1576866600   \n3991         0.99      FLIGHTS           PVG              SAT    1577471400   \n3995         0.99      FLIGHTS           QQX              CDO    1576693800   \n3996         0.99      FLIGHTS           NWH              TH7    1576953000   \n3999         0.99      FLIGHTS           KA1              FJR    1576953000   \n\n      SERVICE_PRICE  \n0               104  \n2                69  \n6               110  \n8                52  \n11              142  \n...             ...  \n3990             70  \n3991            116  \n3995             89  \n3996            102  \n3999             96  \n\n[1305 rows x 12 columns]",
      "text/html": "<div>\n<style scoped>\n    .dataframe tbody tr th:only-of-type {\n        vertical-align: middle;\n    }\n\n    .dataframe tbody tr th {\n        vertical-align: top;\n    }\n\n    .dataframe thead th {\n        text-align: right;\n    }\n</style>\n<table border=\"1\" class=\"dataframe\">\n  <thead>\n    <tr style=\"text-align: right;\">\n      <th></th>\n      <th>Unnamed: 0</th>\n      <th>USER_ID</th>\n      <th>SESSION_ID</th>\n      <th>TIMESTAMP</th>\n      <th>ITEM_ID</th>\n      <th>EVENT_TYPE</th>\n      <th>EVENT_VALUE</th>\n      <th>SERVICE_TYPE</th>\n      <th>USER_LOCATION</th>\n      <th>SERVICE_LOCATION</th>\n      <th>SERVICE_TIME</th>\n      <th>SERVICE_PRICE</th>\n    </tr>\n  </thead>\n  <tbody>\n    <tr>\n      <th>0</th>\n      <td>0</td>\n      <td>505b2165-5089-4ba1-85d9-ab0eedddb6ff</td>\n      <td>281f25c8-1544-4ad1-a982-5ece2268b6de</td>\n      <td>1569177000</td>\n      <td>JAI</td>\n      <td>Booking</td>\n      <td>0.99</td>\n      <td>FLIGHTS</td>\n      <td>DEN</td>\n      <td>JAI</td>\n      <td>1577039400</td>\n      <td>104</td>\n    </tr>\n    <tr>\n      <th>2</th>\n      <td>2</td>\n      <td>4da565db-a67e-4a17-a9a6-147a5970deba</td>\n      <td>0856c5b5-cef7-4418-a2fb-b3483d7d9ad3</td>\n      <td>1562005800</td>\n      <td>NAN</td>\n      <td>Booking</td>\n      <td>0.99</td>\n      <td>FLIGHTS</td>\n      <td>CAE</td>\n      <td>NAN</td>\n      <td>1577385000</td>\n      <td>69</td>\n    </tr>\n    <tr>\n      <th>6</th>\n      <td>6</td>\n      <td>6861966e-930e-4a42-ab6e-eed13e3d3be4</td>\n      <td>35bca8d2-d380-4ce8-b15e-c5722d7339fd</td>\n      <td>1568399400</td>\n      <td>VIA</td>\n      <td>Booking</td>\n      <td>0.99</td>\n      <td>FLIGHTS</td>\n      <td>BIN</td>\n      <td>VIA</td>\n      <td>1576348200</td>\n      <td>110</td>\n    </tr>\n    <tr>\n      <th>8</th>\n      <td>8</td>\n      <td>f8082749-d4a8-413a-b01e-2a4b81b0fde2</td>\n      <td>ffaf2000-600a-4d81-bb59-f32880642b9e</td>\n      <td>1563906600</td>\n      <td>LEO</td>\n      <td>Booking</td>\n      <td>0.99</td>\n      <td>FLIGHTS</td>\n      <td>HAN</td>\n      <td>LEO</td>\n      <td>1576780200</td>\n      <td>52</td>\n    </tr>\n    <tr>\n      <th>11</th>\n      <td>11</td>\n      <td>12d8c4c0-a472-4da5-950b-ce02b426d32c</td>\n      <td>e30c86d6-16c8-40b1-83fd-87589d27665b</td>\n      <td>1555957800</td>\n      <td>CEN</td>\n      <td>Booking</td>\n      <td>0.99</td>\n      <td>FLIGHTS</td>\n      <td>ALC</td>\n      <td>CEN</td>\n      <td>1576780200</td>\n      <td>142</td>\n    </tr>\n    <tr>\n      <th>...</th>\n      <td>...</td>\n      <td>...</td>\n      <td>...</td>\n      <td>...</td>\n      <td>...</td>\n      <td>...</td>\n      <td>...</td>\n      <td>...</td>\n      <td>...</td>\n      <td>...</td>\n      <td>...</td>\n      <td>...</td>\n    </tr>\n    <tr>\n      <th>3990</th>\n      <td>3990</td>\n      <td>a7981edb-234d-42ce-938a-8dd7aed43c98</td>\n      <td>7de58e57-770c-4001-9655-f846fded3728</td>\n      <td>1567017000</td>\n      <td>SDR</td>\n      <td>Booking</td>\n      <td>0.99</td>\n      <td>FLIGHTS</td>\n      <td>CPH</td>\n      <td>SDR</td>\n      <td>1576866600</td>\n      <td>70</td>\n    </tr>\n    <tr>\n      <th>3991</th>\n      <td>3991</td>\n      <td>a8bc3210-449b-44a8-ac54-b182b13be0fc</td>\n      <td>78387b14-b09b-44a4-bca0-b26065507279</td>\n      <td>1554489000</td>\n      <td>SAT</td>\n      <td>Booking</td>\n      <td>0.99</td>\n      <td>FLIGHTS</td>\n      <td>PVG</td>\n      <td>SAT</td>\n      <td>1577471400</td>\n      <td>116</td>\n    </tr>\n    <tr>\n      <th>3995</th>\n      <td>3995</td>\n      <td>110749c7-6b27-4bfb-bb92-ab1010b73ba5</td>\n      <td>733cce34-627b-4d76-a588-54e14a0d3073</td>\n      <td>1565116200</td>\n      <td>CDO</td>\n      <td>Booking</td>\n      <td>0.99</td>\n      <td>FLIGHTS</td>\n      <td>QQX</td>\n      <td>CDO</td>\n      <td>1576693800</td>\n      <td>89</td>\n    </tr>\n    <tr>\n      <th>3996</th>\n      <td>3996</td>\n      <td>47227935-085f-4877-8573-f56a3d7717a6</td>\n      <td>a693e8f4-4278-449a-9588-b64b62932e6e</td>\n      <td>1570645800</td>\n      <td>TH7</td>\n      <td>Booking</td>\n      <td>0.99</td>\n      <td>FLIGHTS</td>\n      <td>NWH</td>\n      <td>TH7</td>\n      <td>1576953000</td>\n      <td>102</td>\n    </tr>\n    <tr>\n      <th>3999</th>\n      <td>3999</td>\n      <td>395a0867-040e-4a68-88b9-3c9aaa5b094a</td>\n      <td>563bd892-e491-46d0-b13a-1cb8829666f9</td>\n      <td>1567535400</td>\n      <td>FJR</td>\n      <td>Booking</td>\n      <td>0.99</td>\n      <td>FLIGHTS</td>\n      <td>KA1</td>\n      <td>FJR</td>\n      <td>1576953000</td>\n      <td>96</td>\n    </tr>\n  </tbody>\n</table>\n<p>1305 rows × 12 columns</p>\n</div>"
     },
     "metadata": {},
     "execution_count": 31
    }
   ],
   "source": [
    "df1"
   ]
  },
  {
   "cell_type": "code",
   "execution_count": 19,
   "metadata": {},
   "outputs": [
    {
     "output_type": "execute_result",
     "data": {
      "text/plain": "0"
     },
     "metadata": {},
     "execution_count": 19
    }
   ],
   "source": [
    "len(df1.ITEM_ID.unique() )"
   ]
  },
  {
   "cell_type": "code",
   "execution_count": 21,
   "metadata": {},
   "outputs": [
    {
     "output_type": "execute_result",
     "data": {
      "text/plain": "[UUID('bfa8865f-bd1a-4b1f-948a-0876f389c33a')]"
     },
     "metadata": {},
     "execution_count": 21
    }
   ],
   "source": [
    "# use for generating random UUIDs\n",
    "[uuid.uuid4() for i in range(1)]"
   ]
  },
  {
   "cell_type": "code",
   "execution_count": null,
   "metadata": {},
   "outputs": [],
   "source": []
  }
 ]
}