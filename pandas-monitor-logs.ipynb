{
 "metadata": {
  "language_info": {
   "codemirror_mode": {
    "name": "ipython",
    "version": 3
   },
   "file_extension": ".py",
   "mimetype": "text/x-python",
   "name": "python",
   "nbconvert_exporter": "python",
   "pygments_lexer": "ipython3",
   "version": "3.8.3-final"
  },
  "orig_nbformat": 2,
  "kernelspec": {
   "name": "python38364bitbbc55c31fc144dbf97f81da9374b11aa",
   "display_name": "Python 3.8.3 64-bit"
  }
 },
 "nbformat": 4,
 "nbformat_minor": 2,
 "cells": [
  {
   "cell_type": "code",
   "execution_count": null,
   "metadata": {},
   "outputs": [],
   "source": [
    "import requests\n",
    "import pandas as pd\n",
    "import numpy as np\n",
    "import json"
   ]
  },
  {
   "cell_type": "code",
   "execution_count": null,
   "metadata": {},
   "outputs": [],
   "source": [
    "def iterate_all_hosts():\n",
    "\n",
    "  s = requests.session()\n",
    "\n",
    "  s.params = {\n",
    "\n",
    "    'api_key': '###########################',\n",
    "\n",
    "    'application_key': '#####################################',\n",
    "\n",
    "    'start': 0\n",
    "\n",
    "  }\n",
    "\n",
    "  infra_link = 'https://app.datadoghq.com/api/v1/hosts'\n",
    "\n",
    "  while True:\n",
    "\n",
    "    response = s.request(method='GET', url=infra_link, params=s.params).json()\n",
    "\n",
    "    for host in response['host_list']:\n",
    "\n",
    "        yield host\n",
    "\n",
    "    if response['total_returned'] == 0:\n",
    "\n",
    "        return\n",
    "\n",
    "    s.params['start'] += response['total_returned']"
   ]
  },
  {
   "source": [
    "# ID, Hostname, Tags, Env, Team\n",
    "  123, hxy, '{}', 'prod', 'pe'"
   ],
   "cell_type": "markdown",
   "metadata": {}
  },
  {
   "cell_type": "code",
   "execution_count": 162,
   "metadata": {
    "tags": []
   },
   "outputs": [],
   "source": [
    "li = []\n",
    "for host in iterate_all_hosts():\n",
    "  if len([i for i in host['tags_by_source']['Datadog'] if i.split(':')[0] == 'team']) > 0:\n",
    "      team = [ i.split(':')[1] for i in host['tags_by_source']['Datadog'] if 'team' in i][0]\n",
    "      if team != 'pe':\n",
    "        #   print(host)\n",
    "          env = [ i.split(':')[1] for i in host['tags_by_source']['Datadog'] if 'environment' in i]\n",
    "          environment = env[0] if env else None\n",
    "      else:\n",
    "          if 'Chef' in host['tags_by_source']:\n",
    "              environment = [ i.split(':')[1] for i in host['tags_by_source']['Chef'] if 'env' in i][0]\n",
    "          elif 'Users' in host['tags_by_source']:\n",
    "              environment = [ i.split(':')[1] for i in host['tags_by_source']['Users'] if 'env' in i][0]\n",
    "          else:\n",
    "              environment = None\n",
    "      \n",
    "      di = dict([ (k,pd.Series(v)) for k,v in host.items() if k in ['tags_by_source', 'host_name', 'id'] ])\n",
    "      di['environment'] = environment\n",
    "      di['team'] = team\n",
    "      di['tags_by_source'] = np.array((di['tags_by_source']))\n",
    "      li.append(di)"
   ]
  },
  {
   "cell_type": "code",
   "execution_count": 163,
   "metadata": {},
   "outputs": [],
   "source": [
    "df = pd.DataFrame.from_records(li)"
   ]
  },
  {
   "cell_type": "code",
   "execution_count": 171,
   "metadata": {},
   "outputs": [
    {
     "output_type": "execute_result",
     "data": {
      "text/plain": [
       "                                        tags_by_source  \\\n",
       "135  [[environment:prod, ipa-server-version:4.6.5, ...   \n",
       "139   [[team:ess, host:liceval002.gld.dreamworks.net]]   \n",
       "144  [[environment:prod, ipa-server-version:4.6.5, ...   \n",
       "145  [[environment:prod, ipa-server-version:4.6.5, ...   \n",
       "157  [[environment:prod, ipa-server-version:4.6.5, ...   \n",
       "214  [[environment:prod, ipa-server-version:4.6.5, ...   \n",
       "231  [[environment:prod, ipa-server-version:4.6.5, ...   \n",
       "244  [[environment:prod, ipa-server-version:4.8.4, ...   \n",
       "250  [[environment:prod, ipa-server-version:4.8.4, ...   \n",
       "251  [[environment:prod, ipa-server-version:4.8.4, ...   \n",
       "252  [[environment:prod, ipa-server-version:4.8.4, ...   \n",
       "253  [[environment:prod, ipa-server-version:4.6.5, ...   \n",
       "254  [[environment:prod, ipa-server-version:4.6.5, ...   \n",
       "285  [[team:ess, host:yum01.gld.dreamworks.net], [t...   \n",
       "\n",
       "                                            host_name  \\\n",
       "135    0    elevated.gld.dreamworks.net\n",
       "dtype: object   \n",
       "139  0    liceval002.gld.dreamworks.net\n",
       "dtype: object   \n",
       "144       0    stone.gld.dreamworks.net\n",
       "dtype: object   \n",
       "145        0    duet.gld.dreamworks.net\n",
       "dtype: object   \n",
       "157       0    bells.gld.dreamworks.net\n",
       "dtype: object   \n",
       "214       0    ipa02.owb.dreamworks.net\n",
       "dtype: object   \n",
       "231       0    ipa01.owb.dreamworks.net\n",
       "dtype: object   \n",
       "244       0    ipa01.gld.dreamworks.net\n",
       "dtype: object   \n",
       "250       0    ipa03.gld.dreamworks.net\n",
       "dtype: object   \n",
       "251       0    ipa04.gld.dreamworks.net\n",
       "dtype: object   \n",
       "252       0    ipa02.gld.dreamworks.net\n",
       "dtype: object   \n",
       "253       0    ipa01.las.dreamworks.net\n",
       "dtype: object   \n",
       "254       0    ipa02.las.dreamworks.net\n",
       "dtype: object   \n",
       "285       0    yum01.gld.dreamworks.net\n",
       "dtype: object   \n",
       "\n",
       "                               id environment team  \n",
       "135  0    2667742324\n",
       "dtype: int64        prod  ess  \n",
       "139  0    1756122885\n",
       "dtype: int64        None  ess  \n",
       "144  0    2667756248\n",
       "dtype: int64        prod  ess  \n",
       "145  0    2667758268\n",
       "dtype: int64        prod  ess  \n",
       "157  0    2667746471\n",
       "dtype: int64        prod  ess  \n",
       "214  0    2616010414\n",
       "dtype: int64        prod  ess  \n",
       "231  0    2597930390\n",
       "dtype: int64        prod  ess  \n",
       "244  0    2597244470\n",
       "dtype: int64        prod  ess  \n",
       "250  0    2694964339\n",
       "dtype: int64        prod  ess  \n",
       "251  0    2698662718\n",
       "dtype: int64        prod  ess  \n",
       "252  0    2693974283\n",
       "dtype: int64        prod  ess  \n",
       "253  0    2667753319\n",
       "dtype: int64        prod  ess  \n",
       "254  0    2667857057\n",
       "dtype: int64        prod  ess  \n",
       "285  0    1552428390\n",
       "dtype: int64        None  ess  "
      ],
      "text/html": "<div>\n<style scoped>\n    .dataframe tbody tr th:only-of-type {\n        vertical-align: middle;\n    }\n\n    .dataframe tbody tr th {\n        vertical-align: top;\n    }\n\n    .dataframe thead th {\n        text-align: right;\n    }\n</style>\n<table border=\"1\" class=\"dataframe\">\n  <thead>\n    <tr style=\"text-align: right;\">\n      <th></th>\n      <th>tags_by_source</th>\n      <th>host_name</th>\n      <th>id</th>\n      <th>environment</th>\n      <th>team</th>\n    </tr>\n  </thead>\n  <tbody>\n    <tr>\n      <th>135</th>\n      <td>[[environment:prod, ipa-server-version:4.6.5, ...</td>\n      <td>0    elevated.gld.dreamworks.net\ndtype: object</td>\n      <td>0    2667742324\ndtype: int64</td>\n      <td>prod</td>\n      <td>ess</td>\n    </tr>\n    <tr>\n      <th>139</th>\n      <td>[[team:ess, host:liceval002.gld.dreamworks.net]]</td>\n      <td>0    liceval002.gld.dreamworks.net\ndtype: object</td>\n      <td>0    1756122885\ndtype: int64</td>\n      <td>None</td>\n      <td>ess</td>\n    </tr>\n    <tr>\n      <th>144</th>\n      <td>[[environment:prod, ipa-server-version:4.6.5, ...</td>\n      <td>0    stone.gld.dreamworks.net\ndtype: object</td>\n      <td>0    2667756248\ndtype: int64</td>\n      <td>prod</td>\n      <td>ess</td>\n    </tr>\n    <tr>\n      <th>145</th>\n      <td>[[environment:prod, ipa-server-version:4.6.5, ...</td>\n      <td>0    duet.gld.dreamworks.net\ndtype: object</td>\n      <td>0    2667758268\ndtype: int64</td>\n      <td>prod</td>\n      <td>ess</td>\n    </tr>\n    <tr>\n      <th>157</th>\n      <td>[[environment:prod, ipa-server-version:4.6.5, ...</td>\n      <td>0    bells.gld.dreamworks.net\ndtype: object</td>\n      <td>0    2667746471\ndtype: int64</td>\n      <td>prod</td>\n      <td>ess</td>\n    </tr>\n    <tr>\n      <th>214</th>\n      <td>[[environment:prod, ipa-server-version:4.6.5, ...</td>\n      <td>0    ipa02.owb.dreamworks.net\ndtype: object</td>\n      <td>0    2616010414\ndtype: int64</td>\n      <td>prod</td>\n      <td>ess</td>\n    </tr>\n    <tr>\n      <th>231</th>\n      <td>[[environment:prod, ipa-server-version:4.6.5, ...</td>\n      <td>0    ipa01.owb.dreamworks.net\ndtype: object</td>\n      <td>0    2597930390\ndtype: int64</td>\n      <td>prod</td>\n      <td>ess</td>\n    </tr>\n    <tr>\n      <th>244</th>\n      <td>[[environment:prod, ipa-server-version:4.8.4, ...</td>\n      <td>0    ipa01.gld.dreamworks.net\ndtype: object</td>\n      <td>0    2597244470\ndtype: int64</td>\n      <td>prod</td>\n      <td>ess</td>\n    </tr>\n    <tr>\n      <th>250</th>\n      <td>[[environment:prod, ipa-server-version:4.8.4, ...</td>\n      <td>0    ipa03.gld.dreamworks.net\ndtype: object</td>\n      <td>0    2694964339\ndtype: int64</td>\n      <td>prod</td>\n      <td>ess</td>\n    </tr>\n    <tr>\n      <th>251</th>\n      <td>[[environment:prod, ipa-server-version:4.8.4, ...</td>\n      <td>0    ipa04.gld.dreamworks.net\ndtype: object</td>\n      <td>0    2698662718\ndtype: int64</td>\n      <td>prod</td>\n      <td>ess</td>\n    </tr>\n    <tr>\n      <th>252</th>\n      <td>[[environment:prod, ipa-server-version:4.8.4, ...</td>\n      <td>0    ipa02.gld.dreamworks.net\ndtype: object</td>\n      <td>0    2693974283\ndtype: int64</td>\n      <td>prod</td>\n      <td>ess</td>\n    </tr>\n    <tr>\n      <th>253</th>\n      <td>[[environment:prod, ipa-server-version:4.6.5, ...</td>\n      <td>0    ipa01.las.dreamworks.net\ndtype: object</td>\n      <td>0    2667753319\ndtype: int64</td>\n      <td>prod</td>\n      <td>ess</td>\n    </tr>\n    <tr>\n      <th>254</th>\n      <td>[[environment:prod, ipa-server-version:4.6.5, ...</td>\n      <td>0    ipa02.las.dreamworks.net\ndtype: object</td>\n      <td>0    2667857057\ndtype: int64</td>\n      <td>prod</td>\n      <td>ess</td>\n    </tr>\n    <tr>\n      <th>285</th>\n      <td>[[team:ess, host:yum01.gld.dreamworks.net], [t...</td>\n      <td>0    yum01.gld.dreamworks.net\ndtype: object</td>\n      <td>0    1552428390\ndtype: int64</td>\n      <td>None</td>\n      <td>ess</td>\n    </tr>\n  </tbody>\n</table>\n</div>"
     },
     "metadata": {},
     "execution_count": 171
    }
   ],
   "source": [
    "print()\n",
    "print(df[df['team'] == 'ess'])\n",
    "print()\n",
    "print(df[df['team'] == 'jose'])\n",
    "print()\n",
    "print(df[df['team'] == 'jira'])\n",
    "print()\n",
    "print(df[df['team'] == 'pe'])\n",
    "print()"
   ]
  },
  {
   "cell_type": "code",
   "execution_count": null,
   "metadata": {},
   "outputs": [],
   "source": []
  }
 ]
}