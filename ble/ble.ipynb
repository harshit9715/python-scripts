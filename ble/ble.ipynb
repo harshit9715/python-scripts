{
 "metadata": {
  "language_info": {
   "codemirror_mode": {
    "name": "ipython",
    "version": 3
   },
   "file_extension": ".py",
   "mimetype": "text/x-python",
   "name": "python",
   "nbconvert_exporter": "python",
   "pygments_lexer": "ipython3",
   "version": "3.8.3-final"
  },
  "orig_nbformat": 2,
  "kernelspec": {
   "name": "python38364bitbbc55c31fc144dbf97f81da9374b11aa",
   "display_name": "Python 3.8.3 64-bit"
  }
 },
 "nbformat": 4,
 "nbformat_minor": 2,
 "cells": [
  {
   "source": [
    "# Simulate Data for Contact Tracing. "
   ],
   "cell_type": "markdown",
   "metadata": {}
  },
  {
   "cell_type": "code",
   "execution_count": 5,
   "metadata": {},
   "outputs": [],
   "source": [
    "# Useful imports\n",
    "from uuid import uuid4 as v4\n",
    "import random\n",
    "import json\n",
    "import boto3\n",
    "from datetime import datetime, tzinfo, timedelta"
   ]
  },
  {
   "cell_type": "code",
   "execution_count": 6,
   "metadata": {},
   "outputs": [],
   "source": [
    "# weighted random selection\n",
    "## matches are the number of interactions every hour. (its a weighted selection between 0 and 50, where less is more probable.)\n",
    "matches = lambda : random.choice([0]+[random.randrange(i) for i in range(1,random.choice([1,1,1,1,1,1,10,10,25,50]))])\n",
    "\n",
    "# here we simulate uuid32 for 15 days, 24 hours, where data is stored every hour. \n",
    "days = lambda : [[[v4().hex for i in range(matches())] for i in range(24)] for i in range(15)]"
   ]
  },
  {
   "cell_type": "code",
   "execution_count": 7,
   "metadata": {},
   "outputs": [],
   "source": [
    "# simple function to generate current UTC time in ISO format.\n",
    "class simple_utc(tzinfo):\n",
    "    def tzname(self,**kwargs):\n",
    "        return \"UTC\"\n",
    "    def utcoffset(self, dt):\n",
    "        return timedelta(0)\n",
    "gettime = lambda : datetime.utcnow().replace(tzinfo=simple_utc()).isoformat()[:-9]+'Z'"
   ]
  },
  {
   "cell_type": "code",
   "execution_count": 8,
   "metadata": {},
   "outputs": [],
   "source": [
    "# This is what our database Item looks like.\n",
    "createDbItem = lambda: {\n",
    "    'PutRequest': {\n",
    "        'Item': {\n",
    "            \"Partition\": \"Contact\",\n",
    "            \"CreationTime\": gettime(),\n",
    "            \"Data\": {\n",
    "                \"days\": days(),\n",
    "                \"startDay\": 18521\n",
    "            }\n",
    "        }\n",
    "    }\n",
    "}"
   ]
  },
  {
   "cell_type": "code",
   "execution_count": 9,
   "metadata": {},
   "outputs": [],
   "source": [
    "## HEAVY OPERATION\n",
    "# this where 5000 records are generated.\n",
    "\n",
    "li = [[createDbItem() for i in range(25)] for i in range(2000)]"
   ]
  },
  {
   "cell_type": "code",
   "execution_count": 11,
   "metadata": {},
   "outputs": [],
   "source": [
    "with open('./data.json', 'w') as f:\n",
    "    f.write(json.dumps(li))"
   ]
  },
  {
   "cell_type": "code",
   "execution_count": null,
   "metadata": {},
   "outputs": [],
   "source": []
  }
 ]
}